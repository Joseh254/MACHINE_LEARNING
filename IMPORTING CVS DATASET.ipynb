{
 "cells": [
  {
   "cell_type": "code",
   "execution_count": null,
   "metadata": {},
   "outputs": [
    {
     "name": "stderr",
     "output_type": "stream",
     "text": [
      "C:\\Users\\Thinkpad\\AppData\\Local\\Temp\\ipykernel_10904\\2619883542.py:1: DeprecationWarning: \n",
      "Pyarrow will become a required dependency of pandas in the next major release of pandas (pandas 3.0),\n",
      "(to allow more performant data types, such as the Arrow string type, and better interoperability with other libraries)\n",
      "but was not found to be installed on your system.\n",
      "If this would cause problems for you,\n",
      "please provide us feedback at https://github.com/pandas-dev/pandas/issues/54466\n",
      "        \n",
      "  import pandas as pd\n"
     ]
    }
   ],
   "source": [
    "import pandas as pd\n",
    "import numpy as np\n",
    "import os"
   ]
  },
  {
   "cell_type": "code",
   "execution_count": null,
   "metadata": {},
   "outputs": [],
   "source": [
    "import pandas as pd\n",
    "df = pd.read_csv('C:\\\\Users\\\\Thinkpad\\\\Desktop\\\\PYTHON\\\\Machine learning\\\\netflix_titles.csv\\\\netflix_titles.csv')"
   ]
  },
  {
   "cell_type": "code",
   "execution_count": null,
   "metadata": {},
   "outputs": [
    {
     "data": {
      "text/html": [
       "<div>\n",
       "<style scoped>\n",
       "    .dataframe tbody tr th:only-of-type {\n",
       "        vertical-align: middle;\n",
       "    }\n",
       "\n",
       "    .dataframe tbody tr th {\n",
       "        vertical-align: top;\n",
       "    }\n",
       "\n",
       "    .dataframe thead th {\n",
       "        text-align: right;\n",
       "    }\n",
       "</style>\n",
       "<table border=\"1\" class=\"dataframe\">\n",
       "  <thead>\n",
       "    <tr style=\"text-align: right;\">\n",
       "      <th></th>\n",
       "      <th>release_year</th>\n",
       "    </tr>\n",
       "  </thead>\n",
       "  <tbody>\n",
       "    <tr>\n",
       "      <th>count</th>\n",
       "      <td>8807.000000</td>\n",
       "    </tr>\n",
       "    <tr>\n",
       "      <th>mean</th>\n",
       "      <td>2014.180198</td>\n",
       "    </tr>\n",
       "    <tr>\n",
       "      <th>std</th>\n",
       "      <td>8.819312</td>\n",
       "    </tr>\n",
       "    <tr>\n",
       "      <th>min</th>\n",
       "      <td>1925.000000</td>\n",
       "    </tr>\n",
       "    <tr>\n",
       "      <th>25%</th>\n",
       "      <td>2013.000000</td>\n",
       "    </tr>\n",
       "    <tr>\n",
       "      <th>50%</th>\n",
       "      <td>2017.000000</td>\n",
       "    </tr>\n",
       "    <tr>\n",
       "      <th>75%</th>\n",
       "      <td>2019.000000</td>\n",
       "    </tr>\n",
       "    <tr>\n",
       "      <th>max</th>\n",
       "      <td>2021.000000</td>\n",
       "    </tr>\n",
       "  </tbody>\n",
       "</table>\n",
       "</div>"
      ],
      "text/plain": [
       "       release_year\n",
       "count   8807.000000\n",
       "mean    2014.180198\n",
       "std        8.819312\n",
       "min     1925.000000\n",
       "25%     2013.000000\n",
       "50%     2017.000000\n",
       "75%     2019.000000\n",
       "max     2021.000000"
      ]
     },
     "execution_count": 11,
     "metadata": {},
     "output_type": "execute_result"
    }
   ],
   "source": [
    "df.describe()"
   ]
  },
  {
   "cell_type": "code",
   "execution_count": null,
   "metadata": {},
   "outputs": [
    {
     "name": "stderr",
     "output_type": "stream",
     "text": [
      "C:\\Users\\Thinkpad\\AppData\\Local\\Temp\\ipykernel_7680\\4205301440.py:1: DeprecationWarning: \n",
      "Pyarrow will become a required dependency of pandas in the next major release of pandas (pandas 3.0),\n",
      "(to allow more performant data types, such as the Arrow string type, and better interoperability with other libraries)\n",
      "but was not found to be installed on your system.\n",
      "If this would cause problems for you,\n",
      "please provide us feedback at https://github.com/pandas-dev/pandas/issues/54466\n",
      "        \n",
      "  import pandas as pd\n"
     ]
    },
    {
     "data": {
      "image/png": "[encoded data removed]",
      "text/plain": [
       "<Figure size 640x480 with 2 Axes>"
      ]
     },
     "metadata": {},
     "output_type": "display_data"
    },
    {
     "name": "stderr",
     "output_type": "stream",
     "text": [
      "C:\\Users\\Thinkpad\\AppData\\Roaming\\Python\\Python312\\site-packages\\sklearn\\base.py:493: UserWarning: X does not have valid feature names, but DecisionTreeClassifier was fitted with feature names\n",
      "  warnings.warn(\n"
     ]
    }
   ],
   "source": [
    "import pandas as pd\n",
    "from sklearn.tree import DecisionTreeClassifier\n",
    "from matplotlib import pyplot\n",
    "# sklearn is for importing training algorithm\n",
    "# decisiontreeclassifier is a class and sklearn a module\n",
    "music_data=pd.read_csv('music.csv')\n",
    "music_data.hist()\n",
    "pyplot.show()\n",
    "X = music_data.drop(columns=['genre'])\n",
    "\n",
    "# a separate set of data\n",
    "y = music_data['genre']\n",
    "model = DecisionTreeClassifier()\n",
    "model.fit(X,y)\n",
    "# .fif trains model to learn patterns, takes 2 data sets,,ie,input and output datasets\n",
    "prediction = model.predict([[21,1], [22,0]])\n",
    "# this .predict takes 2 dimensional array each element being an array\n",
    "# remeber 1 is gender being male 0 is female and 21 is age which is not in dataset,,we want to predict which kind of music will\n",
    "# 21 yrs old tebd to listen\n",
    "#now type prediction below to inspect what kind of music they are likely to listen"
   ]
  },
  {
   "cell_type": "code",
   "execution_count": null,
   "metadata": {},
   "outputs": [],
   "source": [
    "import pandas as pd\n",
    "from sklearn.tree import DecisionTreeClassifier"
   ]
  },
  {
   "cell_type": "code",
   "execution_count": null,
   "metadata": {},
   "outputs": [
    {
     "name": "stdout",
     "output_type": "stream",
     "text": [
      "['HipHop' 'Dance']\n"
     ]
    },
    {
     "name": "stderr",
     "output_type": "stream",
     "text": [
      "C:\\Users\\Thinkpad\\AppData\\Roaming\\Python\\Python312\\site-packages\\sklearn\\base.py:493: UserWarning: X does not have valid feature names, but DecisionTreeClassifier was fitted with feature names\n",
      "  warnings.warn(\n"
     ]
    },
    {
     "data": {
      "text/plain": [
       "\"Import Libraries:\\n\\nIn the first few lines of code, you're importing necessary libraries.\\npandas is a library in Python used for data manipulation and analysis.\\nDecisionTreeClassifier is a class from the sklearn.tree module, which is a part of the Scikit-learn l\\nibrary. Scikit-learn is a powerful library for machine learning in Python.\\nLoading Data:\\n\\nmusic_data = pd.read_csv('music.csv'): This line reads a CSV file named 'music.csv' using pandas' read_csv() \\nfunction and stores it in the variable music_data. \\nThis file presumably contains data about music preferences, with features like age, gender, and genre.\\nPreparing Data:\\n\\nX = music_data.drop(columns=['genre']): This line creates a DataFrame X containing all columns from music_data except for the 'genre' column. \\nThis is because 'genre' is typically the target variable (what you're trying to predict), and we want to separate it from the input features.\\ny = music_data['genre']: This line creates a Series y containing only the 'genre' column. This will be our target variable that we want to predict.\\nCreating and Training the Model:\\n\\nmodel = DecisionTreeClassifier(): This line creates an instance of the DecisionTreeClassifier class. This classifier \\nis a type of machine learning model that uses a decision tree as a predictive model.\\nmodel.fit(X, y): This line trains (fits) the model using the input features X and the target variable y. The model learns\\n the patterns in the data to make predictions.\\nMaking Predictions:\\n\\nprediction = model.predict([[21, 1], [22, 0]]): This line makes predictions using the trained model. It predicts the \\ngenre of music for two hypothetical individuals:\\n one aged 21 (presumably male, as 1 typically denotes male in this context) and another aged 22 (presumably female, as 0 typically denotes female).\\nEvaluating Model Performance (Optional):\\n\\nThere's no explicit evaluation of model performance in this code snippet, but typically, \\nafter making predictions, you'd want to evaluate how well your model performs. \\nCommon metrics for classification tasks like this one include accuracy, precision, recall, and F1-score.\\nPrinting Predictions:\\n\\nprint(predictions): Finally, this line prints the predictions made by the model for the input data.\""
      ]
     },
     "execution_count": 17,
     "metadata": {},
     "output_type": "execute_result"
    }
   ],
   "source": [
    "import pandas as pd\n",
    "from sklearn.tree import DecisionTreeClassifier\n",
    "\n",
    "# Load the data\n",
    "music_data = pd.read_csv('music.csv')\n",
    "\n",
    "# Assuming 'age' and 'gender' are columns in your CSV file\n",
    "X = music_data.drop(columns=['genre'])\n",
    "y = music_data['genre']\n",
    "\n",
    "# Create and train the model\n",
    "model = DecisionTreeClassifier()\n",
    "model.fit(X, y)\n",
    "\n",
    "# Make predictions\n",
    "predictions = model.predict([[21, 1], [22, 0]])\n",
    "print(predictions)\n",
    "'''Import Libraries:\n",
    "\n",
    "In the first few lines of code, you're importing necessary libraries.\n",
    "pandas is a library in Python used for data manipulation and analysis.\n",
    "DecisionTreeClassifier is a class from the sklearn.tree module, which is a part of the Scikit-learn l\n",
    "ibrary. Scikit-learn is a powerful library for machine learning in Python.\n",
    "Loading Data:\n",
    "\n",
    "music_data = pd.read_csv('music.csv'): This line reads a CSV file named 'music.csv' using pandas' read_csv() \n",
    "function and stores it in the variable music_data. \n",
    "This file presumably contains data about music preferences, with features like age, gender, and genre.\n",
    "Preparing Data:\n",
    "\n",
    "X = music_data.drop(columns=['genre']): This line creates a DataFrame X containing all columns from music_data except for the 'genre' column. \n",
    "This is because 'genre' is typically the target variable (what you're trying to predict), and we want to separate it from the input features.\n",
    "y = music_data['genre']: This line creates a Series y containing only the 'genre' column. This will be our target variable that we want to predict.\n",
    "Creating and Training the Model:\n",
    "\n",
    "model = DecisionTreeClassifier(): This line creates an instance of the DecisionTreeClassifier class. This classifier \n",
    "is a type of machine learning model that uses a decision tree as a predictive model.\n",
    "model.fit(X, y): This line trains (fits) the model using the input features X and the target variable y. The model learns\n",
    " the patterns in the data to make predictions.\n",
    "Making Predictions:\n",
    "\n",
    "prediction = model.predict([[21, 1], [22, 0]]): This line makes predictions using the trained model. It predicts the \n",
    "genre of music for two hypothetical individuals:\n",
    " one aged 21 (presumably male, as 1 typically denotes male in this context) and another aged 22 (presumably female, as 0 typically denotes female).\n",
    "Evaluating Model Performance (Optional):\n",
    "\n",
    "There's no explicit evaluation of model performance in this code snippet, but typically, \n",
    "after making predictions, you'd want to evaluate how well your model performs. \n",
    "Common metrics for classification tasks like this one include accuracy, precision, recall, and F1-score.\n",
    "Printing Predictions:\n",
    "\n",
    "print(predictions): Finally, this line prints the predictions made by the model for the input data.'''\n"
   ]
  }
 ],
 "metadata": {
  "kernelspec": {
   "display_name": "Python 3",
   "language": "python",
   "name": "python3"
  },
  "language_info": {
   "codemirror_mode": {
    "name": "ipython",
    "version": 3
   },
   "file_extension": ".py",
   "mimetype": "text/x-python",
   "name": "python",
   "nbconvert_exporter": "python",
   "pygments_lexer": "ipython3",
   "version": "3.12.0"
  }
 },
 "nbformat": 4,
 "nbformat_minor": 2
}
